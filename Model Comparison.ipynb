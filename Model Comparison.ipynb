{
 "cells": [
  {
   "cell_type": "code",
   "execution_count": 1,
   "metadata": {},
   "outputs": [
    {
     "name": "stderr",
     "output_type": "stream",
     "text": [
      "┌ Warning: PyPlot is using tkagg backend, which is known to cause crashes on MacOS (#410); use the MPLBACKEND environment variable to request a different backend.\n",
      "└ @ PyPlot /Users/aw/.julia/packages/PyPlot/4wzW1/src/init.jl:192\n"
     ]
    }
   ],
   "source": [
    "using Random, PyPlot, LinearAlgebra, Statistics, DataFrames, FITSIO, FITSTables, CSV, PyCall, JLD2"
   ]
  },
  {
   "cell_type": "code",
   "execution_count": 2,
   "metadata": {},
   "outputs": [],
   "source": [
    "include(\"get_lamost_spectra.jl\")\n",
    "LogNorm = pyimport(\"matplotlib.colors\").LogNorm\n",
    "include(\"../cats/human_readable_names.jl\")\n",
    "include(\"figures.jl\")\n",
    "include(\"model.jl\")\n",
    ";"
   ]
  },
  {
   "cell_type": "markdown",
   "metadata": {},
   "source": [
    "# prep data"
   ]
  },
  {
   "cell_type": "code",
   "execution_count": 7,
   "metadata": {},
   "outputs": [],
   "source": [
    "wl_grid = load(\"wl_grid.jld2\")[\"wl_grid\"];"
   ]
  },
  {
   "cell_type": "code",
   "execution_count": 33,
   "metadata": {},
   "outputs": [],
   "source": [
    "Random.seed!(0)\n",
    "ntest = 1000\n",
    "test_obsids = rand(FITS(f->DataFrame(f[2]), \"../cats/LAMOST-dr4v2-stellar.fits.gz\").obsid, ntest);"
   ]
  },
  {
   "cell_type": "code",
   "execution_count": 34,
   "metadata": {},
   "outputs": [
    {
     "name": "stdout",
     "output_type": "stream",
     "text": [
      "of 1000 spectra, 0 need to be downloaded\n"
     ]
    }
   ],
   "source": [
    "download_lamost_spectra(test_obsids);\n",
    "test_spectra = []\n",
    "test_ivar = []\n",
    "for obsid in test_obsids\n",
    "    wl, flux, ivar = load_lamost_spectrum(obsid)\n",
    "    push!(test_spectra, flux)\n",
    "    push!(test_ivar, ivar)\n",
    "end\n",
    "\n",
    ";"
   ]
  },
  {
   "cell_type": "code",
   "execution_count": 35,
   "metadata": {},
   "outputs": [
    {
     "name": "stdout",
     "output_type": "stream",
     "text": [
      "of 1000 spectra, 0 need to be downloaded\n"
     ]
    }
   ],
   "source": [
    "include(\"get_lamost_spectra.jl\")\n",
    "rf_obsids = CSV.read(\"./random.csv\").obsid;\n",
    "download_lamost_spectra(rf_obsids)\n",
    "\n",
    "rf_spectra = []\n",
    "rf_ivar = []\n",
    "for obsid in rf_obsids\n",
    "    wl, flux, ivar = load_lamost_spectrum(obsid)\n",
    "    push!(rf_spectra, flux)\n",
    "    push!(rf_ivar, ivar)\n",
    "end\n",
    "rf_spectra = transpose(reduce(hcat, rf_spectra))\n",
    "rf_ivar = transpose(reduce(hcat, rf_ivar))\n",
    ";"
   ]
  },
  {
   "cell_type": "code",
   "execution_count": 36,
   "metadata": {},
   "outputs": [],
   "source": [
    "#remove blue end of spectrum\n",
    "#test_spectra = [s[500:end] for s in test_spectra]\n",
    "#test_ivar = [v[500:end] for v in test_ivar]\n",
    "#rf_spectra = rf_spectra[:, 500:end]\n",
    "#;"
   ]
  },
  {
   "cell_type": "code",
   "execution_count": 37,
   "metadata": {},
   "outputs": [],
   "source": [
    "#whiten spectra\n",
    "#typical_uncertainty = [mean(col[col .!= 0.0].^(-1/2)) for col in eachcol(rf_ivar)];\n",
    "#plot(wl_grid, typical_uncertainty)\n",
    "#\n",
    "#rf_spectra .-= 1\n",
    "#rf_spectra ./= typical_uncertainty'\n",
    "#rf_ivar .*= typical_uncertainty'.^2\n",
    "#test_spectra = [(f .- 1)./typical_uncertainty for f in test_spectra]\n",
    "#test_ivar = [iv .* typical_uncertainty.^2 for iv in test_ivar]\n",
    "#;"
   ]
  },
  {
   "cell_type": "markdown",
   "metadata": {},
   "source": [
    "# compare old and new methods"
   ]
  },
  {
   "cell_type": "code",
   "execution_count": null,
   "metadata": {},
   "outputs": [],
   "source": [
    "include(\"model.jl\")\n",
    "\n",
    "maskfrac = 0.1\n",
    "k = 10\n",
    "q = 5\n",
    "\n",
    "rf_set = rf_spectra\n",
    "\n",
    "f, ivar = rand(collect(zip(test_spectra, test_ivar)))\n",
    "mask = rand(size(rf_spectra, 2)) .< maskfrac\n",
    "\n",
    "neighbors = find_neighbors(f[.! mask], ivar[.! mask].^(-5f-1), rf_spectra[:, .! mask]', (Inf .+ rf_ivar[:, .! mask])'.^(-5f-1), k)\n",
    "F = rf_spectra[neighbors, :]\n",
    "\n",
    "pf = project_onto_local_manifold(F, f, ivar, mask, q)\n",
    "println(mean((pf[mask] - f[mask]).^2 .* ivar[mask]))\n",
    "\n",
    "figure(figsize=(12, 4))\n",
    "pltmask = 1750:1850\n",
    "#plot(f[pltmask],  label=\"data\")\n",
    "errorbar(pltmask .- pltmask[1], f[pltmask], yerr=ivar[pltmask].^(-1/2))\n",
    "plot(pf[pltmask], label=\"PCs\")\n",
    "plot(F[:, pltmask]', c=\"k\", alpha=0.2)\n",
    "#for spec in \n",
    "#    plot(spec[pltmask], c=\"k\", alpha=0.1)\n",
    "#end\n",
    "\n",
    "include(\"model.jl\")\n",
    "μ = mean(F, dims=1)\n",
    "FF = Matrix((F .- μ)')[:, 1:end-1]\n",
    "w = calculate_weights(FF, Float32.(f .- μ[:]), Float32.(ivar.^(-5f-1)))\n",
    "plot((FF*w + μ[:])[pltmask], label=\"neighbors\")\n",
    "legend()\n",
    "\n",
    "#\n",
    "#figure(figsize=(12, 3))\n",
    "#title(\"old model is reproduced exactly\")\n",
    "#diff = (FF * w + μ[:] - pf) \n",
    "#plot(diff, label=\"q = 5\")\n",
    "#println(sum(diff.^2))\n",
    "#pf = project_onto_local_manifold(F, f, ivar, mask, k-1)\n",
    "#diff = (FF * w + μ[:] - pf) \n",
    "#plot(diff, label=\"q = k-1\")\n",
    "#println(sum(diff.^2))\n",
    "#legend()"
   ]
  },
  {
   "cell_type": "markdown",
   "metadata": {},
   "source": [
    "# parameter study"
   ]
  },
  {
   "cell_type": "code",
   "execution_count": 14,
   "metadata": {},
   "outputs": [
    {
     "name": "stdout",
     "output_type": "stream",
     "text": [
      "234.578278 seconds (22.77 M allocations: 182.654 GiB, 8.71% gc time)\n"
     ]
    },
    {
     "data": {
      "text/plain": [
       "1.184982102145747"
      ]
     },
     "execution_count": 14,
     "metadata": {},
     "output_type": "execute_result"
    }
   ],
   "source": [
    "function MSE(rf_spectra, test_spectra, test_ivar, k, q; maskfrac = 0.1)\n",
    "    Random.seed!(2)\n",
    "    \n",
    "    MSE = map((zip(test_spectra, test_ivar))) do (f, ivar)\n",
    "        masksize = 100\n",
    "        npix = size(rf_spectra, 2)\n",
    "        ind = rand(1 : npix-100)\n",
    "        mask = ind .<= (1:npix) .<= ind + 100\n",
    "        \n",
    "        dists = map(eachrow(rf_spectra)) do rf_spec                                                  \n",
    "            sum((f[.! mask] .- rf_spec[.! mask]).^2 .* ivar[.! mask])\n",
    "        end \n",
    "        F = rf_spectra[partialsortperm(dists, 1:k), :] \n",
    "        #pf = project_onto_local_manifold((F .- 1)./ typical_uncertainty', \n",
    "        #    (f .- 1) ./typical_uncertainty, ivar .* typical_uncertainty.^2,\n",
    "        #     mask, q) .* typical_uncertainty .+ 1\n",
    "        pf = project_onto_local_manifold(F, f, ivar, mask, q)\n",
    "        \n",
    "        #figure(figsize=(12, 4))\n",
    "        #errorbar(wl_grid[mask], f[mask], yerr=ivar[mask].^(-1/2))\n",
    "        #plot(wl_grid[mask],pf[mask])\n",
    "        #plot(wl_grid[mask],F[:, mask]', c=\"k\", alpha=0.1)\n",
    "        #figure(figsize=(12, 3))\n",
    "        #plot(wl_grid,f)\n",
    "        #plot(wl_grid,pf)\n",
    "        #plot(wl_grid,F', c=\"k\", alpha=0.1)\n",
    "        \n",
    "        mean((pf[mask] - f[mask]).^2 .* ivar[mask])\n",
    "    end\n",
    "    mean(MSE)\n",
    "end\n",
    "@time MSE(rf_spectra, test_spectra, test_ivar, 10, 5)"
   ]
  },
  {
   "cell_type": "code",
   "execution_count": 307,
   "metadata": {
    "collapsed": true,
    "jupyter": {
     "outputs_hidden": true
    }
   },
   "outputs": [
    {
     "data": {
      "image/png": "[encoded data removed]",
      "text/plain": [
       "Figure(PyObject <Figure size 640x480 with 1 Axes>)"
      ]
     },
     "metadata": {},
     "output_type": "display_data"
    },
    {
     "name": "stdout",
     "output_type": "stream",
     "text": [
      "1384.547333 seconds (398.36 M allocations: 2.230 TiB, 16.58% gc time)\n"
     ]
    },
    {
     "data": {
      "text/plain": [
       "PyObject <matplotlib.legend.Legend object at 0x1408e9fd0>"
      ]
     },
     "execution_count": 307,
     "metadata": {},
     "output_type": "execute_result"
    }
   ],
   "source": [
    "@time for k in 10:30:120\n",
    "    qs = collect(5:10:k-1)\n",
    "    MSEs = [MSE(rf_spectra, test_spectra, test_ivar, k, q) for q in qs]\n",
    "    plot(qs, MSEs, label=\"k=$k\")\n",
    "end\n",
    "xlabel(\"q\")\n",
    "ylabel(\"MSE\")\n",
    "legend()"
   ]
  },
  {
   "cell_type": "code",
   "execution_count": 15,
   "metadata": {},
   "outputs": [
    {
     "data": {
      "image/png": "[encoded data removed]",
      "text/plain": [
       "Figure(PyObject <Figure size 640x480 with 1 Axes>)"
      ]
     },
     "metadata": {},
     "output_type": "display_data"
    },
    {
     "name": "stdout",
     "output_type": "stream",
     "text": [
      "1127.884584 seconds (105.92 M allocations: 919.731 GiB, 10.60% gc time)\n"
     ]
    },
    {
     "data": {
      "text/plain": [
       "PyObject Text(22.299550986642977, 0.5, 'MSE')"
      ]
     },
     "execution_count": 15,
     "metadata": {},
     "output_type": "execute_result"
    }
   ],
   "source": [
    "q = 4\n",
    "ks = 5:20:100\n",
    "@time MSEs = map(ks) do k\n",
    "    MSE(rf_spectra, test_spectra, test_ivar, k, q)\n",
    "end\n",
    "plot(ks, MSEs) \n",
    "xlabel(\"k\")\n",
    "ylabel(\"MSE\")"
   ]
  },
  {
   "cell_type": "markdown",
   "metadata": {},
   "source": [
    "# test Li outliers with large $k, q$"
   ]
  },
  {
   "cell_type": "code",
   "execution_count": 7,
   "metadata": {},
   "outputs": [],
   "source": [
    "using CSV\n",
    "outliers = CSV.read(\"distributed_topsnr_1000_test.flagged.csv\");"
   ]
  },
  {
   "cell_type": "code",
   "execution_count": 124,
   "metadata": {},
   "outputs": [
    {
     "name": "stdout",
     "output_type": "stream",
     "text": [
      "of 760 spectra, 0 need to be downloaded\n"
     ]
    }
   ],
   "source": [
    "download_lamost_spectra(outliers.obsid)\n",
    "\n",
    "outlier_spectra = []\n",
    "outlier_ivar = []\n",
    "for obsid in outliers.obsid\n",
    "    wl, flux, ivar = load_lamost_spectrum(obsid; clip=false)\n",
    "    push!(outlier_spectra, flux)\n",
    "    push!(outlier_ivar, ivar)\n",
    "end\n",
    ";"
   ]
  },
  {
   "cell_type": "code",
   "execution_count": 228,
   "metadata": {},
   "outputs": [],
   "source": [
    "wl_grid = load(\"wl_grid.jld2\")[\"wl_grid\"]\n",
    "Δλ = 7\n",
    "li_air = 6707.85\n",
    "line_mask = li_air - Δλ .< wl_grid .< li_air + Δλ;"
   ]
  },
  {
   "cell_type": "code",
   "execution_count": 276,
   "metadata": {},
   "outputs": [],
   "source": [
    "include(\"model.jl\");"
   ]
  },
  {
   "cell_type": "code",
   "execution_count": 277,
   "metadata": {},
   "outputs": [
    {
     "data": {
      "image/png": "[encoded data removed]",
      "text/plain": [
       "Figure(PyObject <Figure size 640x480 with 1 Axes>)"
      ]
     },
     "metadata": {},
     "output_type": "display_data"
    },
    {
     "name": "stdout",
     "output_type": "stream",
     "text": [
      "[154204108, 321609186, 156803144, 214008018, 173103134, 160114155]\n",
      "[181709187, 291415040, 421404044, 274608148, 363911217, 387710043]\n",
      "(6, 3559)\n"
     ]
    }
   ],
   "source": [
    "k, q = 6, 5\n",
    "\n",
    "ind = rand(1:length(outlier_spectra))\n",
    "f = test_spectra[ind]\n",
    "ivar = test_ivar[ind]\n",
    "\n",
    "neighbors = find_neighbors(f[.! line_mask], \n",
    "    ivar[.! line_mask].^(-5f-1), \n",
    "    rf_spectra[:, .! line_mask]', \n",
    "    rf_ivar[:, .! line_mask]'.^(-5f-1), k)\n",
    "#dists = map(zip(eachrow(rf_spectra), eachrow(rf_ivar)) do (rf_spec, rfivar)\n",
    "#    sum((f[.! line_mask] .- rf_spec[.! line_mask]).^2 .* ivar[.! line_mask])\n",
    "#end \n",
    "println(rf_obsids[neighbors])\n",
    "println(outliers.neighbors[ind])\n",
    "F = rf_spectra[neighbors, :]\n",
    "println(size(F))\n",
    "\n",
    "pf = project_onto_local_manifold(F, f, ivar, line_mask, q)\n",
    "\n",
    "w = calculate_weights(Matrix(F[:, .! line_mask]'), f[.! line_mask], ivar[.! line_mask].^(-5f-1))\n",
    "\n",
    "figure()\n",
    "plot(wl_grid[line_mask], F[:, line_mask]' * w - f[line_mask])\n",
    "#plot(f[line_mask])\n",
    "diff = eval(Meta.parse(outliers.diff[ind]))\n",
    "plt.plot(wl_grid[line_mask], diff)\n",
    "\n",
    "#println(outliers.diff[ind])\n",
    "#ylim(-0.1, 0.1)\n",
    "#yticks(-0.1 : 0.05 : 0.1)\n",
    "\n",
    "#figure(figsize=(12, 4))\n",
    "#plot(wl_grid, f, label = \"data\")\n",
    "#plot(wl_grid, pf, label=\"projected spectrum\")\n",
    "#plot(wl_grid, F', c=\"k\", alpha=0.1)\n",
    "#axvline(6709.7)\n",
    "#xlim(6670, 6750)\n",
    "#axvspan(li_air-10, li_air+10, color=\"grey\", alpha=0.3)\n",
    "#ylim(0.9, 1.06)\n",
    "#legend()\n",
    "#\n",
    "#figure(figsize=(12, 4))\n",
    "#plot(wl_grid, f, label = \"data\")\n",
    "#plot(wl_grid, pf, label=\"projected spectrum\")\n",
    "#plot(wl_grid, F', c=\"k\", alpha=0.1)\n",
    "#;"
   ]
  },
  {
   "cell_type": "code",
   "execution_count": null,
   "metadata": {},
   "outputs": [],
   "source": []
  }
 ],
 "metadata": {
  "kernelspec": {
   "display_name": "Julia 1.3.1",
   "language": "julia",
   "name": "julia-1.3"
  },
  "language_info": {
   "file_extension": ".jl",
   "mimetype": "application/julia",
   "name": "julia",
   "version": "1.3.1"
  }
 },
 "nbformat": 4,
 "nbformat_minor": 4
}
