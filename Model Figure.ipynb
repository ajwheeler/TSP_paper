{
 "cells": [
  {
   "cell_type": "code",
   "execution_count": 1,
   "metadata": {},
   "outputs": [
    {
     "name": "stderr",
     "output_type": "stream",
     "text": [
      "┌ Warning: PyPlot is using tkagg backend, which is known to cause crashes on MacOS (#410); use the MPLBACKEND environment variable to request a different backend.\n",
      "└ @ PyPlot /Users/aw/.julia/packages/PyPlot/4wzW1/src/init.jl:192\n"
     ]
    }
   ],
   "source": [
    "using PyPlot\n",
    "include(\"model.jl\")\n",
    "include(\"lines_and_grid.jl\")\n",
    ";"
   ]
  },
  {
   "cell_type": "code",
   "execution_count": 2,
   "metadata": {},
   "outputs": [
    {
     "data": {
      "text/plain": [
       "3×9 Array{Float64,2}:\n",
       " 0.000809522  0.00913075  0.0518972  …  0.0564694  0.0103433  0.000950968\n",
       " 0.111111     0.111111    0.111111      0.111111   0.111111   0.111111   \n",
       " 0.0          0.0         0.2           0.0        0.0        0.0        "
      ]
     },
     "execution_count": 2,
     "metadata": {},
     "output_type": "execute_result"
    }
   ],
   "source": [
    "M = model_matrix(wl_grid[line_mask], li_vac, li_vac/3600)\n",
    "M[3:end, :] ./= 5\n",
    "M = M[[1, 2, 5], :]"
   ]
  },
  {
   "cell_type": "code",
   "execution_count": 4,
   "metadata": {},
   "outputs": [
    {
     "data": {
      "image/png": "[encoded data removed]",
      "text/plain": [
       "Figure(PyObject <Figure size 350x250 with 1 Axes>)"
      ]
     },
     "metadata": {},
     "output_type": "display_data"
    }
   ],
   "source": [
    "figure(figsize=(3.5, 2.5))\n",
    "step(wl_grid[line_mask], -M[2, :], c=\"grey\", lw=3, ls=\"--\", label=\"contaminant model\", where=\"mid\")\n",
    "step(wl_grid[line_mask], -M[3, :], c=\"grey\", lw=3, ls=\"--\", where=\"mid\")\n",
    "step(wl_grid[line_mask], -M[1, :], c=\"k\", lw=3, label=\"line model\", where=\"mid\")\n",
    "legend()\n",
    "ylim(-.32, 0.01)\n",
    "xlim(wl_grid[line_mask][[1, end]]...)\n",
    "xlabel(L\"$\\lambda$ [\\AA]\")\n",
    "ylabel(\"flux\")\n",
    "tight_layout()\n",
    "savefig(\"../../Desktop/contaminant_models.pdf\", bbox_inches=\"tight\")"
   ]
  },
  {
   "cell_type": "code",
   "execution_count": null,
   "metadata": {},
   "outputs": [],
   "source": []
  }
 ],
 "metadata": {
  "kernelspec": {
   "display_name": "Julia 1.3.1",
   "language": "julia",
   "name": "julia-1.3"
  },
  "language_info": {
   "file_extension": ".jl",
   "mimetype": "application/julia",
   "name": "julia",
   "version": "1.3.1"
  }
 },
 "nbformat": 4,
 "nbformat_minor": 4
}
