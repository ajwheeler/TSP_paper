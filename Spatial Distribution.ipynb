{
 "cells": [
  {
   "cell_type": "code",
   "execution_count": 1,
   "metadata": {},
   "outputs": [
    {
     "name": "stderr",
     "output_type": "stream",
     "text": [
      "┌ Info: Recompiling stale cache file /Users/aw/.julia/compiled/v1.1/DataFrames/AR9oZ.ji for DataFrames [a93c6f00-e57d-5684-b7b6-d8193f3e46c0]\n",
      "└ @ Base loading.jl:1184\n",
      "┌ Info: Recompiling stale cache file /Users/aw/.julia/compiled/v1.1/CSV/HHBkp.ji for CSV [336ed68f-0bac-5ca0-87d4-7b16caf5d00b]\n",
      "└ @ Base loading.jl:1184\n"
     ]
    }
   ],
   "source": [
    "using DataFrames, CSV"
   ]
  },
  {
   "cell_type": "code",
   "execution_count": 2,
   "metadata": {},
   "outputs": [],
   "source": [
    "df = CSV.read(\"distributed_topsnr_1000_test.flagged.csv\");"
   ]
  },
  {
   "cell_type": "code",
   "execution_count": 31,
   "metadata": {},
   "outputs": [],
   "source": [
    "α = df.ra\n",
    "δ = df.dec\n",
    "r = hcat((cos.(α) .* cos.(δ)),\n",
    "             (sin.(α) .* cos.(δ)),\n",
    "             (sin.(δ)))\n",
    "A = [0.0548755604162154 +0.4941094278755837 -0.8676661490190047\n",
    "              -0.8734370902348850 -0.4448296299600112 -0.1980763734312015\n",
    "              -0.4838350155487132 +0.7469822444972189 +0.4559837761750669]\n",
    "rGal = r * A\n",
    "X = rGal[:, 1]\n",
    "Y = rGal[:, 2]\n",
    "Z = rGal[:, 3]\n",
    ";"
   ]
  },
  {
   "cell_type": "code",
   "execution_count": 45,
   "metadata": {},
   "outputs": [
    {
     "data": {
      "image/png": "[encoded data removed]",
      "text/plain": [
       "Figure(PyObject <Figure size 640x480 with 1 Axes>)"
      ]
     },
     "metadata": {},
     "output_type": "display_data"
    },
    {
     "data": {
      "text/plain": [
       "PyObject <matplotlib.collections.PathCollection object at 0x1441df5c0>"
      ]
     },
     "execution_count": 45,
     "metadata": {},
     "output_type": "execute_result"
    }
   ],
   "source": [
    "using PyPlot\n",
    "mask = (.! (ismissing.(X) .| ismissing.(Y))) .& (df.logg .> 3)\n",
    "plt.scatter(X[mask] .* df.rest[mask], Y[mask].* df.rest[mask], s=1)"
   ]
  },
  {
   "cell_type": "code",
   "execution_count": 51,
   "metadata": {},
   "outputs": [],
   "source": [
    "msto = (.! ismissing.(df.logg)) .& (df.logg .< 4) .& (df.teff .> 5500);"
   ]
  },
  {
   "cell_type": "code",
   "execution_count": 60,
   "metadata": {},
   "outputs": [],
   "source": [
    "wl_grid = load(\"wl_grid.jld2\")[\"wl_grid\"]\n",
    "Δλ = 7                                                                          \n",
    "    \n",
    "li_air = 6707.85\n",
    "include(\"air_vacuum.jl\")\n",
    "li_vac = air_to_vac(li_air)\n",
    "line_mask = li_air - Δλ .< wl_grid .< li_air + Δλ\n",
    ";"
   ]
  },
  {
   "cell_type": "code",
   "execution_count": 61,
   "metadata": {},
   "outputs": [],
   "source": [
    "ϕ(x, μ, σ) = exp(-1/2 * (x-μ)^2/σ^2) #gaussian kernel                       \n",
    "n = sum(line_mask)\n",
    "M = zeros(2 + n, n)                                                         \n",
    "M[1, :] = ϕ.(wl_grid[line_mask], li_vac, li_air/3600)\n",
    "M[1, :] ./= sqrt(sum(M[1, :].^2))\n",
    "M[2, :] .= sqrt(1/n)\n",
    "for i in 3:(2+n)\n",
    "    M[i, i-2] = 1.\n",
    "end "
   ]
  },
  {
   "cell_type": "code",
   "execution_count": 69,
   "metadata": {},
   "outputs": [
    {
     "data": {
      "text/plain": [
       "plot_spectrum (generic function with 1 method)"
      ]
     },
     "execution_count": 69,
     "metadata": {},
     "output_type": "execute_result"
    }
   ],
   "source": [
    "function plot_spectrum(row)\n",
    "    \n",
    "    print(\"obsid: \", row.obsid)\n",
    "    \n",
    "    download_lamost_spectra([row.obsid], verbose=false)\n",
    "    wl, flux, ivar = load_lamost_spectrum(row.obsid)\n",
    "    println(parse(Vector{Float64}, row.neighbors))\n",
    "    #download_lamost_spectra(, verbose=false)\n",
    "    F = hcat((n->load_lamost_spectrum(n)[2]).(row.neighbors)...)\n",
    "    \n",
    "    #figure(figsize=(3,3))\n",
    "    #ylabel(\"residuals\")\n",
    "    #xlabel(L\"$\\lambda$ [\\AA]\")\n",
    "    #errorbar(wl_grid[line_mask], row.diff, yerr=row.err, label=\"data\")\n",
    "    #errorbar(wl_grid[line_mask], M[1, :]*row.amplitude, label=\"best fit line model\")\n",
    "    #legend()\n",
    "    \n",
    "    figure(figsize=(12, 3))\n",
    "    ylabel(L\"F/F_\\mathrm{cont}\")\n",
    "    xlabel(L\"$\\lambda$ [\\AA]\")\n",
    "    plt.plot(wl, flux, label=\"data\")\n",
    "    axvspan(li_air - Δλ, li_air + Δλ, alpha=0.2, color=\"gray\")\n",
    "    plt.plot(wl, F*row.weights, label=\"synthetic\")\n",
    "    legend()\n",
    "    \n",
    "    figure(figsize=(12, 3))\n",
    "    ylabel(L\"F/F_\\mathrm{cont}\")\n",
    "    xlabel(L\"$\\lambda$ [\\AA]\")\n",
    "    errorbar(wl, flux, yerr=ivar.^(-1/2), label=\"data\");\n",
    "    axvspan(li_air - Δλ, li_air + Δλ, alpha=0.2, color=\"gray\")\n",
    "    plt.plot(wl, F*row.weights, label=\"synthetic\")\n",
    "    errorbar(wl_grid[line_mask], F[line_mask, :] * row.weights .- M[1, :]*row.amplitude, label=\"best fit residual model\")\n",
    "    legend()\n",
    "    xlim(6660, 6750)\n",
    "    ylim(0.9, 1.1)\n",
    "    \n",
    "    ;\n",
    "end"
   ]
  },
  {
   "cell_type": "code",
   "execution_count": 70,
   "metadata": {},
   "outputs": [
    {
     "name": "stdout",
     "output_type": "stream",
     "text": [
      "obsid: 399204185of 1 spectra, 0 need to be downloaded\n"
     ]
    },
    {
     "ename": "MethodError",
     "evalue": "MethodError: no method matching parse(::Type{Array{Float64,1}}, ::String)\nClosest candidates are:\n  parse(!Matched::Type{LibGit2.GitCredential}, ::AbstractString) at /Users/osx/buildbot/slave/package_osx64/build/usr/share/julia/stdlib/v1.1/LibGit2/src/gitcredential.jl:73\n  parse(!Matched::Type{LibGit2.GitCredentialHelper}, ::AbstractString) at /Users/osx/buildbot/slave/package_osx64/build/usr/share/julia/stdlib/v1.1/LibGit2/src/gitcredential.jl:163\n  parse(!Matched::Type{Sockets.IPv4}, ::AbstractString) at /Users/osx/buildbot/slave/package_osx64/build/usr/share/julia/stdlib/v1.1/Sockets/src/IPAddr.jl:166\n  ...",
     "output_type": "error",
     "traceback": [
      "MethodError: no method matching parse(::Type{Array{Float64,1}}, ::String)\nClosest candidates are:\n  parse(!Matched::Type{LibGit2.GitCredential}, ::AbstractString) at /Users/osx/buildbot/slave/package_osx64/build/usr/share/julia/stdlib/v1.1/LibGit2/src/gitcredential.jl:73\n  parse(!Matched::Type{LibGit2.GitCredentialHelper}, ::AbstractString) at /Users/osx/buildbot/slave/package_osx64/build/usr/share/julia/stdlib/v1.1/LibGit2/src/gitcredential.jl:163\n  parse(!Matched::Type{Sockets.IPv4}, ::AbstractString) at /Users/osx/buildbot/slave/package_osx64/build/usr/share/julia/stdlib/v1.1/Sockets/src/IPAddr.jl:166\n  ...",
      "",
      "Stacktrace:",
      " [1] plot_spectrum(::DataFrameRow{DataFrame,DataFrames.Index}) at ./In[69]:7",
      " [2] top-level scope at In[70]:3"
     ]
    }
   ],
   "source": [
    "include(\"get_lamost_spectra.jl\")\n",
    "i = rand(findall(msto))\n",
    "plot_spectrum(df[i, :])"
   ]
  },
  {
   "cell_type": "code",
   "execution_count": null,
   "metadata": {},
   "outputs": [],
   "source": []
  }
 ],
 "metadata": {
  "kernelspec": {
   "display_name": "Julia 1.1.0",
   "language": "julia",
   "name": "julia-1.1"
  },
  "language_info": {
   "file_extension": ".jl",
   "mimetype": "application/julia",
   "name": "julia",
   "version": "1.1.0"
  }
 },
 "nbformat": 4,
 "nbformat_minor": 4
}
