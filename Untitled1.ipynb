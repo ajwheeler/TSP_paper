{
 "cells": [
  {
   "cell_type": "code",
   "execution_count": 6,
   "metadata": {},
   "outputs": [
    {
     "name": "stderr",
     "output_type": "stream",
     "text": [
      "┌ Info: Recompiling stale cache file /Users/aw/.julia/compiled/v1.1/PyPlot/oatAj.ji for PyPlot [d330b81b-6aea-500a-939a-2ce795aea3ee]\n",
      "└ @ Base loading.jl:1184\n"
     ]
    },
    {
     "data": {
      "text/plain": [
       "fromhdf5 (generic function with 1 method)"
      ]
     },
     "execution_count": 6,
     "metadata": {},
     "output_type": "execute_result"
    }
   ],
   "source": [
    "using DataFrames, FITSIO\n",
    "using PyPlot\n",
    "include(\"fitsdf.jl\")"
   ]
  },
  {
   "cell_type": "markdown",
   "metadata": {},
   "source": [
    "## load APOGEE, select small part of HR diagram"
   ]
  },
  {
   "cell_type": "code",
   "execution_count": 43,
   "metadata": {},
   "outputs": [],
   "source": [
    "cols = [\"FILE\", \"TEFF\", \"LOGG\", \"FE_H\", \"ALPHA_M\"]\n",
    "apogee = DataFrame(FITS(\"allStar-l31c.2.fits\")[2], cols=cols);"
   ]
  },
  {
   "cell_type": "code",
   "execution_count": 44,
   "metadata": {},
   "outputs": [],
   "source": [
    "for col in cols\n",
    "    if typeof(apogee[1, Symbol(col)]) != Float32\n",
    "        continue\n",
    "    end\n",
    "    apogee[apogee[!, Symbol(col)] .== -9999, Symbol(col)] .= NaN;\n",
    "end\n",
    "rename!(apogee, zip(Symbol.(cols), Symbol.(lowercase.(cols))))\n",
    ";"
   ]
  },
  {
   "cell_type": "code",
   "execution_count": 53,
   "metadata": {},
   "outputs": [
    {
     "data": {
      "image/png": "[encoded data removed]",
      "text/plain": [
       "Figure(PyObject <Figure size 640x480 with 1 Axes>)"
      ]
     },
     "metadata": {},
     "output_type": "display_data"
    },
    {
     "data": {
      "text/plain": [
       "PyObject <matplotlib.lines.Line2D object at 0x14fb0a048>"
      ]
     },
     "execution_count": 53,
     "metadata": {},
     "output_type": "execute_result"
    }
   ],
   "source": [
    "plt.hist2d(apogee.fe_h, apogee.alpha_m, bins=40, range=[[-1,0.5],[-0.25,0.3]])\n",
    "axvline(0.1)\n",
    "axvline(-0.1)\n",
    "axhline(0)\n",
    "axhline(0.03)"
   ]
  },
  {
   "cell_type": "code",
   "execution_count": 55,
   "metadata": {},
   "outputs": [
    {
     "name": "stdout",
     "output_type": "stream",
     "text": [
      "21074\n"
     ]
    }
   ],
   "source": [
    "mask = (-0.1 .< apogee.fe_h .< 0.1) .& (0 .< apogee.alpha_m .< 0.03)\n",
    "println(sum(mask))\n",
    "fns = apogee[mask, :file];"
   ]
  },
  {
   "cell_type": "code",
   "execution_count": 56,
   "metadata": {},
   "outputs": [
    {
     "data": {
      "text/plain": [
       "21074-element Array{String,1}:\n",
       " \"apStar-r8-VESTA.fits\"             \n",
       " \"apStar-r8-2M00000535+1504343.fits\"\n",
       " \"apStar-r8-2M00000799+7939442.fits\"\n",
       " \"apStar-r8-2M00000866+7122144.fits\"\n",
       " \"apStar-r8-2M00001217-1949306.fits\"\n",
       " \"apStar-r8-2M00001508+6229364.fits\"\n",
       " \"apStar-r8-2M00002021+6302567.fits\"\n",
       " \"apStar-r8-2M00002338+6457409.fits\"\n",
       " \"apStar-r8-2M00002509+7040316.fits\"\n",
       " \"apStar-r8-2M00002853+6119307.fits\"\n",
       " \"apStar-r8-2M00003088+6311475.fits\"\n",
       " \"apStar-r8-2M00003157+7059085.fits\"\n",
       " \"apStar-r8-2M00003456+1538435.fits\"\n",
       " ⋮                                  \n",
       " \"apStar-r8-2M23590832+6242474.fits\"\n",
       " \"apStar-r8-2M23591115+6601183.fits\"\n",
       " \"apStar-r8-2M23592217+1729273.fits\"\n",
       " \"apStar-r8-2M23592841+6335256.fits\"\n",
       " \"apStar-r8-2M23593261+6223007.fits\"\n",
       " \"apStar-r8-2M23593396-1931485.fits\"\n",
       " \"apStar-r8-2M23593919-1927229.fits\"\n",
       " \"apStar-r8-2M23594089+6356368.fits\"\n",
       " \"apStar-r8-2M23594252+5534278.fits\"\n",
       " \"apStar-r8-2M23594252+5848418.fits\"\n",
       " \"apStar-r8-2M23594825+1639240.fits\"\n",
       " \"apStar-r8-2M23595553+6339020.fits\""
      ]
     },
     "execution_count": 56,
     "metadata": {},
     "output_type": "execute_result"
    }
   ],
   "source": [
    "fns"
   ]
  },
  {
   "cell_type": "code",
   "execution_count": null,
   "metadata": {},
   "outputs": [],
   "source": [
    "include(\"model.jl\")"
   ]
  },
  {
   "cell_type": "code",
   "execution_count": null,
   "metadata": {},
   "outputs": [],
   "source": [
    "using PyPlot\n",
    "npix = 50\n",
    "N = 40\n",
    "F = randn(npix, N)\n",
    "S = randn(npix, N) ./ 10\n",
    "f = randn(npix)\n",
    "σ = randn(npix) ./ 10\n",
    "@time w = calculate_weights(F, S, f, σ)\n",
    "plot(f)\n",
    "plot(F*w)"
   ]
  },
  {
   "cell_type": "code",
   "execution_count": null,
   "metadata": {},
   "outputs": [],
   "source": []
  }
 ],
 "metadata": {
  "kernelspec": {
   "display_name": "Julia 1.1.0",
   "language": "julia",
   "name": "julia-1.1"
  },
  "language_info": {
   "file_extension": ".jl",
   "mimetype": "application/julia",
   "name": "julia",
   "version": "1.1.0"
  }
 },
 "nbformat": 4,
 "nbformat_minor": 2
}
